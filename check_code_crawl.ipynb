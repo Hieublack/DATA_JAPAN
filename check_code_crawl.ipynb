{
 "cells": [
  {
   "cell_type": "markdown",
   "metadata": {},
   "source": [
    "Crawl list company từ Investing"
   ]
  },
  {
   "cell_type": "code",
   "execution_count": null,
   "metadata": {},
   "outputs": [],
   "source": [
    "from Crawl.investing import*\n",
    "\n",
    "a = CrawlListCompany()\n",
    "a.getListCompany()\n",
    "#sau khi chạy thu được file data.csv ở thư mục chính"
   ]
  },
  {
   "cell_type": "markdown",
   "metadata": {},
   "source": [
    "Ở morningstar lấy các file lịch sử dividends của các ty Nhật theo mã công ty"
   ]
  },
  {
   "cell_type": "code",
   "execution_count": 2,
   "metadata": {},
   "outputs": [
    {
     "data": {
      "text/html": [
       "<div>\n",
       "<style scoped>\n",
       "    .dataframe tbody tr th:only-of-type {\n",
       "        vertical-align: middle;\n",
       "    }\n",
       "\n",
       "    .dataframe tbody tr th {\n",
       "        vertical-align: top;\n",
       "    }\n",
       "\n",
       "    .dataframe thead th {\n",
       "        text-align: right;\n",
       "    }\n",
       "</style>\n",
       "<table border=\"1\" class=\"dataframe\">\n",
       "  <thead>\n",
       "    <tr style=\"text-align: right;\">\n",
       "      <th></th>\n",
       "      <th>Symbol</th>\n",
       "      <th>Check</th>\n",
       "      <th>Len</th>\n",
       "    </tr>\n",
       "  </thead>\n",
       "  <tbody>\n",
       "    <tr>\n",
       "      <th>0</th>\n",
       "      <td>1301</td>\n",
       "      <td>1</td>\n",
       "      <td>27</td>\n",
       "    </tr>\n",
       "    <tr>\n",
       "      <th>1</th>\n",
       "      <td>1332</td>\n",
       "      <td>1</td>\n",
       "      <td>49</td>\n",
       "    </tr>\n",
       "    <tr>\n",
       "      <th>2</th>\n",
       "      <td>1333</td>\n",
       "      <td>0</td>\n",
       "      <td>-1</td>\n",
       "    </tr>\n",
       "    <tr>\n",
       "      <th>3</th>\n",
       "      <td>1352</td>\n",
       "      <td>0</td>\n",
       "      <td>-1</td>\n",
       "    </tr>\n",
       "    <tr>\n",
       "      <th>4</th>\n",
       "      <td>1376</td>\n",
       "      <td>1</td>\n",
       "      <td>49</td>\n",
       "    </tr>\n",
       "    <tr>\n",
       "      <th>5</th>\n",
       "      <td>1377</td>\n",
       "      <td>1</td>\n",
       "      <td>72</td>\n",
       "    </tr>\n",
       "    <tr>\n",
       "      <th>6</th>\n",
       "      <td>1379</td>\n",
       "      <td>1</td>\n",
       "      <td>56</td>\n",
       "    </tr>\n",
       "    <tr>\n",
       "      <th>7</th>\n",
       "      <td>1380</td>\n",
       "      <td>1</td>\n",
       "      <td>21</td>\n",
       "    </tr>\n",
       "  </tbody>\n",
       "</table>\n",
       "</div>"
      ],
      "text/plain": [
       "   Symbol  Check  Len\n",
       "0    1301      1   27\n",
       "1    1332      1   49\n",
       "2    1333      0   -1\n",
       "3    1352      0   -1\n",
       "4    1376      1   49\n",
       "5    1377      1   72\n",
       "6    1379      1   56\n",
       "7    1380      1   21"
      ]
     },
     "execution_count": 2,
     "metadata": {},
     "output_type": "execute_result"
    }
   ],
   "source": [
    "from Crawl.MorningStar import*\n",
    "\n",
    "a = MorningStar()\n",
    "\n",
    "list_comp = [1301, 1332, 1333, 1352, 1376, 1377, 1379, 1380]\n",
    "df = a.getDividendsByListSymbol(list_comp)\n",
    "a.getDividendsByListSymbol(list_comp)"
   ]
  },
  {
   "cell_type": "markdown",
   "metadata": {},
   "source": [
    "Ở Buffet lấy thông tin các công ty theo mã công ty"
   ]
  },
  {
   "cell_type": "code",
   "execution_count": null,
   "metadata": {},
   "outputs": [],
   "source": [
    "from Crawl.Buffett import*\n",
    "\n",
    "a = Buffet()\n",
    "list_comp = [1301, 1332, 1333, 1352, 1376, 1377, 1379, 1380]\n",
    "for comp in list_comp:\n",
    "    a.crawlInfo(comp=comp)\n",
    "    "
   ]
  },
  {
   "cell_type": "markdown",
   "metadata": {},
   "source": [
    "Ở Irbank lấy report data theo mã công ty"
   ]
  },
  {
   "cell_type": "code",
   "execution_count": 1,
   "metadata": {},
   "outputs": [],
   "source": [
    "from Crawl.IrBank import*\n",
    "\n",
    "a = Irbank()\n",
    "list_comp = [1301, 1332, 1333, 1352, 1376, 1377, 1379, 1380]\n",
    "for comp in list_comp:\n",
    "    a.getData(code=comp)"
   ]
  },
  {
   "cell_type": "markdown",
   "metadata": {},
   "source": [
    "Ở Marketwatch lấy lịch sử giao dịch công ty theo danh sách công ty"
   ]
  },
  {
   "cell_type": "code",
   "execution_count": null,
   "metadata": {},
   "outputs": [],
   "source": [
    "from Crawl.MarketWatch import*\n",
    "\n",
    "a = MarketWatch()\n",
    "list_comp = [1301, 1332, 1333, 1352, 1376, 1377, 1379, 1380]\n",
    "a.getPriceCloseByListCompany(list_comp)\n",
    "\n"
   ]
  },
  {
   "cell_type": "markdown",
   "metadata": {},
   "source": [
    "Ở Minkabu lấy lịch sử giao dịch theo dánh sách công ty"
   ]
  },
  {
   "cell_type": "code",
   "execution_count": null,
   "metadata": {},
   "outputs": [],
   "source": [
    "from Crawl.Minkabu import*\n",
    "\n",
    "a = Minkabu()\n",
    "list_comp = [1301, 1332, 1333, 1352, 1376, 1377, 1379, 1380]\n",
    "a.getPriceCloseByListCompany(list_company= list_comp)\n"
   ]
  },
  {
   "cell_type": "markdown",
   "metadata": {},
   "source": [
    "Ở YAhooFinance lấy lịch sử giao dịch và thông tin công ty\n"
   ]
  },
  {
   "cell_type": "code",
   "execution_count": null,
   "metadata": {},
   "outputs": [],
   "source": [
    "from Crawl.YahooFinanceJapan import*\n",
    "\n",
    "a = YahooFinanceJP()\n",
    "list_comp = [1301, 1332, 1333, 1352, 1376, 1377, 1379, 1380]\n",
    "#lấy lịch sử giao dịch\n",
    "a.getPriceCloseByListCompany(list_comp)\n",
    "#lấy thông tin\n",
    "a.getInformationAllCompany(list_comp)\n"
   ]
  }
 ],
 "metadata": {
  "kernelspec": {
   "display_name": "Python 3",
   "language": "python",
   "name": "python3"
  },
  "language_info": {
   "codemirror_mode": {
    "name": "ipython",
    "version": 3
   },
   "file_extension": ".py",
   "mimetype": "text/x-python",
   "name": "python",
   "nbconvert_exporter": "python",
   "pygments_lexer": "ipython3",
   "version": "3.10.4"
  },
  "orig_nbformat": 4
 },
 "nbformat": 4,
 "nbformat_minor": 2
}
